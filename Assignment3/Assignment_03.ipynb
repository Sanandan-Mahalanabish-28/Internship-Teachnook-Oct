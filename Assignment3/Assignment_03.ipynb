{
  "nbformat": 4,
  "nbformat_minor": 0,
  "metadata": {
    "colab": {
      "provenance": [],
      "collapsed_sections": []
    },
    "kernelspec": {
      "name": "python3",
      "display_name": "Python 3"
    },
    "language_info": {
      "name": "python"
    }
  },
  "cells": [
    {
      "cell_type": "code",
      "execution_count": 4,
      "metadata": {
        "colab": {
          "base_uri": "https://localhost:8080/"
        },
        "id": "nGcq9wgfB8s4",
        "outputId": "1019171a-abec-425f-f5b7-4353876068b2"
      },
      "outputs": [
        {
          "output_type": "stream",
          "name": "stdout",
          "text": [
            "Enter first number: 5\n",
            "Enter second number: 0\n",
            "Enter operand: **\n",
            "Operation result is: 1\n"
          ]
        }
      ],
      "source": [
        "#Design a simple calculator \n",
        "\n",
        "num1 = input(\"Enter first number: \")\n",
        "num2 = input(\"Enter second number: \")\n",
        "op = input(\"Enter operand: \")\n",
        "\n",
        "if(op == '+'):\n",
        "  result = int(num1) + int(num2)\n",
        "elif(op == '-'):\n",
        "  result = int(num1) - int(num2)\n",
        "elif(op == '*'):\n",
        "  result = int(num1) * int(num2)\n",
        "elif(op == '**'):\n",
        "  result = int(num1) ** int(num2)\n",
        "elif(op == '/'):\n",
        "  result = int(num1) / int(num2)\n",
        "elif(op == '//'):\n",
        "  result = int(num1) // int(num2)\n",
        "else:\n",
        "  result = False\n",
        "\n",
        "if(result == False):\n",
        "  print(\"Invalid operation. Please try again\")\n",
        "else:\n",
        "  print(\"Operation result is:\", result)"
      ]
    },
    {
      "cell_type": "code",
      "source": [],
      "metadata": {
        "id": "AIZwkxLzEUcS"
      },
      "execution_count": null,
      "outputs": []
    }
  ]
}