{
  "nbformat": 4,
  "nbformat_minor": 0,
  "metadata": {
    "colab": {
      "provenance": [],
      "collapsed_sections": []
    },
    "kernelspec": {
      "name": "python3",
      "display_name": "Python 3"
    },
    "language_info": {
      "name": "python"
    }
  },
  "cells": [
    {
      "cell_type": "code",
      "execution_count": 1,
      "metadata": {
        "colab": {
          "base_uri": "https://localhost:8080/"
        },
        "id": "BzTE8c-87qbb",
        "outputId": "5fcde55b-29fe-45a1-c025-b9588ef4d89c"
      },
      "outputs": [
        {
          "output_type": "stream",
          "name": "stdout",
          "text": [
            "{'Data', 0, 'data1', 'Task'}\n"
          ]
        }
      ],
      "source": [
        "# Set\n",
        "# unordered collection of datatypes\n",
        "# symbol used to enclose: {}\n",
        "# no duplicates allowed\n",
        "\n",
        "#test data:\n",
        "myset = {\"Data\", \"data1\", 0, 0, \"Task\"}\n",
        "print(myset)"
      ]
    },
    {
      "cell_type": "code",
      "source": [
        "#adding element into the set\n",
        "\n",
        "print(\"my set before adding element:\", myset)\n",
        "\n",
        "myset.add(55)\n",
        "print(\"my set after adding element:\", myset)"
      ],
      "metadata": {
        "colab": {
          "base_uri": "https://localhost:8080/"
        },
        "id": "gE6Jvau7_AtK",
        "outputId": "2030b899-3eaf-4afb-f3fb-0e40d668cd58"
      },
      "execution_count": 2,
      "outputs": [
        {
          "output_type": "stream",
          "name": "stdout",
          "text": [
            "my set before adding element: {'Data', 0, 'data1', 'Task'}\n",
            "my set after adding element: {'Data', 0, 'Task', 55, 'data1'}\n"
          ]
        }
      ]
    },
    {
      "cell_type": "code",
      "source": [
        "#deleting element from the set\n",
        "\n",
        "print(\"my set before deletion of element:\", myset)\n",
        "\n",
        "myset.remove(55)\n",
        "print(\"my set after deletion of element:\", myset)"
      ],
      "metadata": {
        "colab": {
          "base_uri": "https://localhost:8080/"
        },
        "id": "xZ5ZJRLU_kAc",
        "outputId": "8b185df3-b76e-4625-c6c2-c8a40f4cb8ea"
      },
      "execution_count": 3,
      "outputs": [
        {
          "output_type": "stream",
          "name": "stdout",
          "text": [
            "my set before deletion of element: {'Data', 0, 'Task', 55, 'data1'}\n",
            "my set after deletion of element: {'Data', 0, 'Task', 'data1'}\n"
          ]
        }
      ]
    },
    {
      "cell_type": "markdown",
      "source": [
        "Conclusion: Set in Python is mutable, i.e., we can both add and remove items from the set"
      ],
      "metadata": {
        "id": "g_HIQ5x-_9mW"
      }
    }
  ]
}