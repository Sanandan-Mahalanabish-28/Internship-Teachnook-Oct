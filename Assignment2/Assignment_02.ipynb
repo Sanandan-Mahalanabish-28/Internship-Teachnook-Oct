{
  "nbformat": 4,
  "nbformat_minor": 0,
  "metadata": {
    "colab": {
      "provenance": []
    },
    "kernelspec": {
      "name": "python3",
      "display_name": "Python 3"
    },
    "language_info": {
      "name": "python"
    }
  },
  "cells": [
    {
      "cell_type": "markdown",
      "source": [
        "Create example for operations on list, tuples, sets and dictionaries"
      ],
      "metadata": {
        "id": "YjsgWY1ZrBCb"
      }
    },
    {
      "cell_type": "code",
      "execution_count": 1,
      "metadata": {
        "colab": {
          "base_uri": "https://localhost:8080/"
        },
        "id": "8pi51jjoq9yJ",
        "outputId": "ad92fbde-cbff-4927-f484-3bf242d06d0d"
      },
      "outputs": [
        {
          "output_type": "stream",
          "name": "stdout",
          "text": [
            "Concatenated list: [1, 2, 3, 4, 5, 6, 7, 8, 9, 10]\n",
            "First list after 99 is appended: [1, 2, 3, 4, 5, 99]\n",
            "Second list after first element is updated: [99, 7, 8, 9, 10]\n",
            "Second list after last element is removed: [99, 7, 8, 9]\n"
          ]
        }
      ],
      "source": [
        "#lists\n",
        "\n",
        "list1 = [1, 2, 3, 4, 5]\n",
        "list2 = [6, 7, 8, 9, 10]\n",
        "\n",
        "#concatenation\n",
        "list_concat = list1 + list2\n",
        "print(\"Concatenated list:\", list_concat)\n",
        "\n",
        "#append item to list\n",
        "list1.append(99)\n",
        "print(\"First list after 99 is appended:\", list1)\n",
        "\n",
        "#update item in list\n",
        "list2[0] = 99\n",
        "print(\"Second list after first element is updated:\", list2)\n",
        "\n",
        "#remove item from list\n",
        "list2.remove(10)\n",
        "print(\"Second list after last element is removed:\", list2)"
      ]
    },
    {
      "cell_type": "code",
      "source": [
        "#tuples\n",
        "\n",
        "tup1 = (1, 2, 3, 4)\n",
        "tup2 = (5, 6, 7, 8)\n",
        "\n",
        "#slicing\n",
        "print(\"The first 3 elements of tuple 1 are:\", tup1[0:3])\n",
        "\n",
        "#concatenation\n",
        "concat_tup = tup1 + tup2\n",
        "print(\"The concatenated tuples are:\", concat_tup)\n",
        "\n",
        "#repetation\n",
        "rep_tup1 = tup1 * 5\n",
        "print(\"The first tuple repeated 5 times is:\", rep_tup1)"
      ],
      "metadata": {
        "colab": {
          "base_uri": "https://localhost:8080/"
        },
        "id": "4lrsFgiztYlP",
        "outputId": "8e4d85d8-91a3-4cb6-dfdc-ee020b4aa43c"
      },
      "execution_count": 2,
      "outputs": [
        {
          "output_type": "stream",
          "name": "stdout",
          "text": [
            "The first 3 elements of tuple 1 are: (1, 2, 3)\n",
            "The concatenated tuples are: (1, 2, 3, 4, 5, 6, 7, 8)\n",
            "The first tuple repeated 5 times is: (1, 2, 3, 4, 1, 2, 3, 4, 1, 2, 3, 4, 1, 2, 3, 4, 1, 2, 3, 4)\n"
          ]
        }
      ]
    },
    {
      "cell_type": "code",
      "source": [
        "#dictionaries\n",
        "\n",
        "dict1 = {1 : \"red\", 2 : \"blue\", 3: \"green\", 4 : \"yellow\"}\n",
        "print(dict1)\n",
        "\n",
        "#update\n",
        "dict1[1] = \"maroon\"\n",
        "print(\"Updated dict1 is: \", dict1)\n",
        "\n",
        "#delete element\n",
        "del dict1[3]\n",
        "print(\"Updated dict1 is: \", dict1)\n",
        "\n",
        "#pop element\n",
        "popped = dict1.pop(4)\n",
        "print(\"Updated dict1 is: \", dict1)\n",
        "print(\"Popped element from dict1 is: \", popped)"
      ],
      "metadata": {
        "colab": {
          "base_uri": "https://localhost:8080/"
        },
        "id": "3h2msFqD9788",
        "outputId": "054ee624-10b4-4838-ef6a-fa59fdb88473"
      },
      "execution_count": 3,
      "outputs": [
        {
          "output_type": "stream",
          "name": "stdout",
          "text": [
            "{1: 'red', 2: 'blue', 3: 'green', 4: 'yellow'}\n",
            "Updated dict1 is:  {1: 'maroon', 2: 'blue', 3: 'green', 4: 'yellow'}\n",
            "Updated dict1 is:  {1: 'maroon', 2: 'blue', 4: 'yellow'}\n",
            "Updated dict1 is:  {1: 'maroon', 2: 'blue'}\n",
            "Popped element from dict1 is:  yellow\n"
          ]
        }
      ]
    },
    {
      "cell_type": "code",
      "source": [
        "#set\n",
        "\n",
        "myset = {\"Data\", \"data1\", 0, 0, \"Task\"}\n",
        "print(myset)\n",
        "\n",
        "#adding element\n",
        "print(\"my set before adding element:\", myset)\n",
        "myset.add(55)\n",
        "print(\"my set after adding element:\", myset)\n",
        "\n",
        "#deleting element\n",
        "print(\"my set before deletion of element:\", myset)\n",
        "myset.remove(55)\n",
        "print(\"my set after deletion of element:\", myset)\n",
        "\n"
      ],
      "metadata": {
        "id": "zEZL7mRL_UK8"
      },
      "execution_count": null,
      "outputs": []
    }
  ]
}